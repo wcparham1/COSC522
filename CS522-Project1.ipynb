{
 "cells": [
  {
   "cell_type": "code",
   "execution_count": 1,
   "metadata": {},
   "outputs": [],
   "source": [
    "import numpy as np\n",
    "import pandas as pd\n",
    "#William Connor Parham\n",
    "#Dr. Hairong Qi\n",
    "#COSC 522\n",
    "#Project 1\n",
    "#9/19/2023"
   ]
  },
  {
   "cell_type": "markdown",
   "metadata": {},
   "source": [
    "**Read In Training and Testing Set**"
   ]
  },
  {
   "cell_type": "code",
   "execution_count": 8,
   "metadata": {},
   "outputs": [
    {
     "name": "stdout",
     "output_type": "stream",
     "text": [
      "         xs            ys       yc\n",
      "0      0.05100797  0.16086164    0\n",
      "1     -0.74807425  0.08904024    0\n",
      "2     -0.77293371  0.26317168    0\n",
      "3      0.21837360  0.12706142    0\n",
      "4      0.37268336  0.49656200    0\n",
      "..                             ...\n",
      "245    0.26887846  0.44559230    1\n",
      "246   -0.49254862  1.01443372    1\n",
      "247    0.07615960  0.63795180    1\n",
      "248    0.49226224  0.46876241    1\n",
      "249   -0.40249641  0.71301084    1\n",
      "\n",
      "[250 rows x 1 columns]\n",
      "           xs        ys  yc\n",
      "0   -0.970990  0.429425   0\n",
      "1   -0.631997  0.251953   0\n",
      "2   -0.773606  0.690751   0\n",
      "3   -0.606212  0.175678   0\n",
      "4   -0.539409  0.376744   0\n",
      "..        ...       ...  ..\n",
      "995  0.327675  0.608014   1\n",
      "996  0.247590  0.279270   1\n",
      "997  0.418515  1.044157   1\n",
      "998  0.232315  0.819643   1\n",
      "999  0.762041  0.573218   1\n",
      "\n",
      "[1000 rows x 3 columns]\n"
     ]
    }
   ],
   "source": [
    "#Read in the training and testing set\n",
    "training_set = pd.read_csv('synth.tr', delim_whitespace=True)\n",
    "testing_set = pd.read_csv('synth.te', delim_whitespace=True)\n",
    "print(training_set)\n",
    "print(testing_set)"
   ]
  },
  {
   "cell_type": "markdown",
   "metadata": {},
   "source": [
    "**K-Nearest Neighbor Implementation**"
   ]
  },
  {
   "cell_type": "code",
   "execution_count": 3,
   "metadata": {},
   "outputs": [],
   "source": [
    "class KNN_Classifier:\n",
    "    def __init__(self, k=1):\n",
    "        self.n_neighbors = k\n",
    "\n",
    "    def euclidian_distance(self, a, b):\n",
    "        eucl_distance = 0.0\n",
    "\n",
    "        for index in range(len(a)):\n",
    "            eucl_distance += (a[index] - b[index] ** 2)\n",
    "            euclidian_distance = np.sqrt(eucl_distance)\n",
    "        \n",
    "        return euclidian_distance\n",
    "\n",
    "\n",
    "    def fit(self, X_train, y_train):\n",
    "        self.X_train = X_train\n",
    "        self.y_train = y_train\n",
    "    \n",
    "    def predict_knn(self, X): \n",
    "        #initialize prediction_knn as empty list \n",
    "        prediction_knn = []\n",
    "\n",
    "        for index in range(len(X)):\n",
    "            #initialize euclidian distances as empty list\n",
    "            euclidian_distances = []\n",
    "\n",
    "            for row in self.X_train:\n",
    "                #for every row in X_train, find eucl_distance to X using\n",
    "                #euclidian_distance() and append to euclidian_distances list\n",
    "                eucl_distance = self.euclidian_distance(row, X[index])\n",
    "                euclidian_distances.append(eucl_distance)\n",
    "            \n",
    "            #sort euclidian_distances in ascending order, and retain only k\n",
    "            #neighbors as specified in n_neighbors(n_neighbors=k)\n",
    "            neighbors = np.array(euclidian_distances).argsort()[: self.n_neighbors]\n",
    "\n",
    "            #initialize dict to count class occurrences in y_train\n",
    "            count_neighbors = {}\n",
    "\n",
    "            for val in neighbors:\n",
    "                if self.y_train[val] in count_neighbors:\n",
    "                    count_neighbors[self.y_train[val]] += 1\n",
    "                else:\n",
    "                    count_neighbors[self.y_tain[val]] = 1\n",
    "                \n",
    "            #max count labels to prediction_knn\n",
    "            prediction_knn.append(max(count_neighbors, key=count_neighbors.get))\n",
    "        \n",
    "        return prediction_knn\n",
    "    \n",
    "    def display_knn(self, x):\n",
    "\n",
    "        #initialize euclidian_distances as empty list\n",
    "        euclidian_distances = []\n",
    "\n",
    "        #for every row in X_train, find eucl_distance to x\n",
    "        #using euclidian_distance() and append to euclidian_distances list\n",
    "        for row in self.X_train:\n",
    "            eucl_distance = self.euclidian_distance(row,x)\n",
    "            euclidian_distances.append(eucl_distance)\n",
    "        \n",
    "        #sort euclidian-distances in ascneding order, and retain only k\n",
    "        #neighbors as specified in n_neighbors (n_neighbors = k)\n",
    "        neighbors = np.array(euclidian_distances).argsort()[: self.n_neighbors]\n",
    "\n",
    "        #initiate empty display_knn_values list\n",
    "        display_knn_values = []\n",
    "\n",
    "        for index in range(len(neighbors)):\n",
    "            neighbor_index = neighbors[index]\n",
    "            e_distances = euclidian_distances[index]\n",
    "            display_knn_values.append((neighbor_index, e_distances))\n",
    "        \n",
    "        return display_knn_values\n"
   ]
  }
 ],
 "metadata": {
  "kernelspec": {
   "display_name": "Python 3",
   "language": "python",
   "name": "python3"
  },
  "language_info": {
   "codemirror_mode": {
    "name": "ipython",
    "version": 3
   },
   "file_extension": ".py",
   "mimetype": "text/x-python",
   "name": "python",
   "nbconvert_exporter": "python",
   "pygments_lexer": "ipython3",
   "version": "3.11.4"
  },
  "orig_nbformat": 4
 },
 "nbformat": 4,
 "nbformat_minor": 2
}
